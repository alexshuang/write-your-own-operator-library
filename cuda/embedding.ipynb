{
  "nbformat": 4,
  "nbformat_minor": 0,
  "metadata": {
    "colab": {
      "provenance": [],
      "gpuType": "T4"
    },
    "kernelspec": {
      "name": "python3",
      "display_name": "Python 3"
    },
    "language_info": {
      "name": "python"
    },
    "accelerator": "GPU"
  },
  "cells": [
    {
      "cell_type": "code",
      "source": [
        "!pip install pycuda -q\n",
        "import pycuda.autoinit\n",
        "import pycuda.driver as drv\n",
        "import numpy as np\n",
        "from pycuda.compiler import SourceModule"
      ],
      "metadata": {
        "id": "v8iWGs461UV1"
      },
      "execution_count": 1,
      "outputs": []
    },
    {
      "cell_type": "code",
      "source": [
        "bs = 4            # batch size\n",
        "n_seq = 512       # sequence len\n",
        "n_cxt = 1024      # max context len\n",
        "n_hidden = 768    # hidden size\n",
        "n_vocab = 50237   # vocab_size\n",
        "\n",
        "np.random.seed(42)\n",
        "wte = np.random.randn(n_vocab, n_hidden).astype(np.float32)\n",
        "wpe = np.random.randn(n_cxt, n_hidden).astype(np.float32)\n",
        "\n",
        "prog = SourceModule(\"\"\"\n",
        "//typedef __attribute__((__ext_vector_type__(4))) float smid_float4;\n",
        "\n",
        "__device__ inline float4 add_float4(float4 a, float4 b) {\n",
        "  float4 c;\n",
        "  c.x = a.x + b.x;\n",
        "  c.y = a.y + b.y;\n",
        "  c.z = a.z + b.z;\n",
        "  c.w = a.w + b.w;\n",
        "  return c;\n",
        "}\n",
        "\n",
        "__global__ void embedding_fwd(float4 *out, const int *input, const float4 *wte, const float4 *wpe, int B, int T, int C) {\n",
        "  int C4 = C / 4;\n",
        "  int idx = blockIdx.x * blockDim.x + threadIdx.x;\n",
        "  int N = B * T * C;\n",
        "  if (idx < N) {\n",
        "    int bt = idx / C4;\n",
        "    int t = bt % T;\n",
        "    int b = bt / T;\n",
        "    int c = idx % C4;\n",
        "    int wte_idx = input[b * T + t];\n",
        "    out[b * T * C4 + t * C4 + c] = add_float4(wte[wte_idx * C4 + c], wpe[t * C4 + c]);\n",
        "  }\n",
        "}\n",
        "\"\"\")"
      ],
      "metadata": {
        "id": "CT_FQsuXjFdf"
      },
      "execution_count": 2,
      "outputs": []
    },
    {
      "cell_type": "code",
      "source": [
        "def ref_embedding_fwd(input, wte, wpe):\n",
        "  return wte[input] + wpe[range(input.shape[-1])]"
      ],
      "metadata": {
        "id": "A3Ee8Fks9g_E"
      },
      "execution_count": 3,
      "outputs": []
    },
    {
      "cell_type": "code",
      "source": [
        "embedding_fwd = prog.get_function(\"embedding_fwd\")\n",
        "out = np.empty((bs, n_seq, n_hidden), dtype=np.float32)\n",
        "input = np.random.randint(n_vocab, size=(bs, n_seq), dtype=np.int32)\n",
        "N = bs * n_seq * n_hidden\n",
        "N4 = N // 4\n",
        "embedding_fwd(drv.Out(out), drv.In(input), drv.In(wte), drv.In(wpe), np.int32(bs), np.int32(n_seq), np.int32(n_hidden), block=(512,1,1), grid=(int(np.ceil(N4 / 512)),1,1))\n",
        "np.allclose(out, ref_embedding_fwd(input, wte, wpe))"
      ],
      "metadata": {
        "colab": {
          "base_uri": "https://localhost:8080/"
        },
        "id": "bk7Ca32q7MS2",
        "outputId": "e8118a3a-45c3-4d98-d43a-2cc3f28acff6"
      },
      "execution_count": 4,
      "outputs": [
        {
          "output_type": "execute_result",
          "data": {
            "text/plain": [
              "True"
            ]
          },
          "metadata": {},
          "execution_count": 4
        }
      ]
    },
    {
      "cell_type": "code",
      "source": [],
      "metadata": {
        "id": "4vz8756iXOMZ"
      },
      "execution_count": 4,
      "outputs": []
    }
  ]
}