{
  "nbformat": 4,
  "nbformat_minor": 0,
  "metadata": {
    "colab": {
      "provenance": [],
      "gpuType": "T4"
    },
    "kernelspec": {
      "name": "python3",
      "display_name": "Python 3"
    },
    "language_info": {
      "name": "python"
    },
    "accelerator": "GPU"
  },
  "cells": [
    {
      "cell_type": "code",
      "source": [
        "!pip install pycuda -q\n",
        "\n",
        "import pycuda.autoinit\n",
        "import pycuda.driver as drv\n",
        "\n",
        "import numpy as np\n",
        "from pycuda.compiler import SourceModule"
      ],
      "metadata": {
        "id": "v8iWGs461UV1"
      },
      "execution_count": null,
      "outputs": []
    },
    {
      "cell_type": "markdown",
      "source": [
        "本例通过 linear_fwd kernel 来实现矩阵乘和 biasadd 计算，为 attention layer 生成 KQV tensors：(bs, n_seq, n_hidden) -> (bs, n_seq, 3 * n_hidden)"
      ],
      "metadata": {
        "id": "JXPA2y9GyKfT"
      }
    },
    {
      "cell_type": "markdown",
      "source": [
        "![gemm.png](data:image/png;base64,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)\n",
        "\n",
        "\n"
      ],
      "metadata": {
        "id": "lrCZMmkVEM8y"
      }
    },
    {
      "cell_type": "markdown",
      "source": [
        "矩阵乘（GEMM）kernel 的实现大致包括以下内容：\n",
        "- 计算 M/N 维度上的 tile size\n",
        "  - 一个 thread 计算 8 * 8 大小的 output elements，一个 block 有 16 * 16 个线程，那一个 block 生成的 output tile 是 128 * 128 elements。\n",
        "  - 确定了 output tile shape，那 LHS 和 RHS 的 tile shape 也确定了：128 * K, 128 * K。\n",
        "- 计算 K 维度上的 tile size\n",
        "  - 由于计算时，LHS/RHS tile 的同一区域会被不同线程反复加载，因此，将它们存储在 shared memory 上可以提高线程的读取效率。\n",
        "  - 但由于 shared memory 大小是有限的，可能无法放下 2 * 128 * K 大小的数据，因此，就需要在 K 维度做切分，通过循环迭代的方式来计算。\n",
        "  - 这里的 K tile size = 4，可以通过 vector 读写的方式来提高访存性能。\n",
        "- 计算 grid size\n",
        "\n",
        "  一个 block 计算生成一个 ouput tile，row/col 的 tile_size 是一样的，16 * 8 = 128。\n",
        "  ```\n",
        "  tile_size = 16\n",
        "  grid_size0 = int(np.ceil(bs * n_seq / (8 * tile_size)))\n",
        "  grid_size1 = int(np.ceil(NH3 / (8 * tile_size)))\n",
        "  grid_size = (grid_size0, grid_size1, 1)\n",
        "  block_size = (tile_size, tile_size, 1)\n",
        "  ```\n",
        "- 计算 LHS/RHS tile shared memory size\n",
        "\n",
        "  结合 block 在 M/N 维度的 tile size: (128 * 128)，每个线程的 tile size:（8 * 8），以及 K tile size：4，可以计算出 shared memory：\n",
        "  ```\n",
        "  // M: 16(threads in y dim) * 8(per thread) = 128 elements, K: 8(per thread) * 4(per vector) = 32 elements per step\n",
        "  __shared__ float lhs_smem[128][8*4];\n",
        "  // N: 16(threads in y dim) * 8(per thread) = 128 elements, K: 8(per thread) * 4(per vector) = 32 elements per step\n",
        "  __shared__ float rhs_smem[128][8*4];\n",
        "  ```\n",
        "- 初始化 bias\n",
        "\n",
        "  bias 如果存在的话，相当于 GEMM 里的 C 矩阵，需要将 blockIdx.y 映射到 bias 的一维向量位置来获取当前线程所需的 8x8 大小的bias data：\n",
        "  ```\n",
        "  int oc_idx = (blockIdx.y * blockDim.y + threadIdx.y) * 8;\n",
        "  if (bias) {\n",
        "    for (int i = 0; i < 8; i++) {\n",
        "      for (int j = 0; j < 8; j += 4) {\n",
        "        float4 tmp = load_vector(bias + oc_idx + j);\n",
        "  ```\n",
        "- load LHS/RHS tile to shared memory\n",
        "\n",
        "  程序会循环迭代 K 维度上的 tile，block 里的线程需要在每个 step 一起合作将 tile 加载到 shared memory，后续各线程再从 shared memory 里加载各自所需 data 做计算。\n",
        "  ```\n",
        "    for (int y = 2 * threadIdx.y + threadIdx.x / 8; y < 128; y += 32) {\n",
        "      int in_x = threadIdx.x % 8 * 4;\n",
        "      store_vector(&lhs_smem[y][in_x], load_vector(lhs + y * C + iter_start + in_x));\n",
        "      store_vector(&rhs_smem[y][in_x], load_vector(rhs_w + y * C + iter_start + in_x));\n",
        "    }\n",
        "  ```\n",
        "- 矩阵乘\n",
        "\n",
        "  K 维度的上的每个 step，线程的计算结果会累加到它 8x8 大小的本地变量。\n",
        "\n",
        "- 写回 output tensor\n",
        "  经历完 K 维度的循环后，将 8x8 大小的本地变量写回到它在 output tensor 的相对位置中。"
      ],
      "metadata": {
        "id": "wxMo4gAiw-IJ"
      }
    },
    {
      "cell_type": "code",
      "source": [
        "bs = 4            # batch size\n",
        "n_seq = 512       # sequence len\n",
        "n_cxt = 1024      # max context len\n",
        "n_hidden = 768    # hidden size\n",
        "n_vocab = 50237   # vocab_size\n",
        "\n",
        "np.random.seed(42)\n",
        "NH3 = n_hidden * 3\n",
        "input = np.random.randn(bs, n_seq, n_hidden).astype(np.float32)\n",
        "qkv_w = np.random.randn(NH3, n_hidden).astype(np.float32)\n",
        "qkv_b = np.random.randn(NH3).astype(np.float32)\n",
        "out = np.empty((bs, n_seq, NH3), dtype=np.float32)\n",
        "\n",
        "prog = SourceModule(\"\"\"\n",
        "__device__ inline float4 load_vector(const float *addr) {\n",
        "  return *reinterpret_cast<const float4 *>(addr);\n",
        "}\n",
        "\n",
        "__device__ inline void store_vector(float *addr, float4 val) {\n",
        "  *reinterpret_cast<float4 *>(addr) = val;\n",
        "}\n",
        "\n",
        "__global__ void linear_fwd(float *out, const float *inp, const float *weight, const float *bias, int B, int T, int OC, int C) {\n",
        "  // M: 16(threads in y dim) * 8(per thread) = 128 elements, K: 8(per thread) * 4(per vector) = 32 elements per step\n",
        "  __shared__ float lhs_smem[128][8*4];\n",
        "  // N: 16(threads in y dim) * 8(per thread) = 128 elements, K: 8(per thread) * 4(per vector) = 32 elements per step\n",
        "  __shared__ float rhs_smem[128][8*4];\n",
        "\n",
        "  float *lhs = (float*)inp + 128 * blockIdx.x * C;\n",
        "  float *rhs_w = (float*)weight + 128 * blockIdx.y * C;\n",
        "  out += 128 * blockIdx.x * OC + 128 * blockIdx.y;\n",
        "\n",
        "  // load bias to acc local memory\n",
        "  float val[8][8] = {};\n",
        "  int oc_idx = (blockIdx.y * blockDim.y + threadIdx.y) * 8;\n",
        "  if (bias) {\n",
        "    for (int i = 0; i < 8; i++) {\n",
        "      for (int j = 0; j < 8; j += 4) {\n",
        "        float4 tmp = load_vector(bias + oc_idx + j);\n",
        "        val[i][j+0] = tmp.x;\n",
        "        val[i][j+1] = tmp.y;\n",
        "        val[i][j+2] = tmp.z;\n",
        "        val[i][j+3] = tmp.w;\n",
        "      }\n",
        "    }\n",
        "  }\n",
        "\n",
        "  int idx = 4 * (threadIdx.y * 16 + threadIdx.x);\n",
        "  for (int iter_start = 0; iter_start < C; iter_start += 32) {\n",
        "    __syncthreads();\n",
        "    // load weight and inp to smem\n",
        "    for (int y = 2 * threadIdx.y + threadIdx.x / 8; y < 128; y += 32) {\n",
        "      int in_x = threadIdx.x % 8 * 4;\n",
        "      store_vector(&lhs_smem[y][in_x], load_vector(lhs + y * C + iter_start + in_x));\n",
        "      store_vector(&rhs_smem[y][in_x], load_vector(rhs_w + y * C + iter_start + in_x));\n",
        "    }\n",
        "    __syncthreads();\n",
        "\n",
        "    // matmul\n",
        "    for (int si = idx; si < idx + 32; si += 4) {\n",
        "      float4 _rhs[8];\n",
        "      for (int u = 0; u < 8; u++) {\n",
        "        _rhs[u] = load_vector(&rhs_smem[threadIdx.y * 8 + u][si % 32]);\n",
        "      }\n",
        "\n",
        "      for (int i = 0; i < 8; i++) {\n",
        "        float4 _lhs = load_vector(&lhs_smem[threadIdx.x * 8 + i][si % 32]);\n",
        "        for (int j = 0; j < 8; j++) {\n",
        "          val[i][j] += _lhs.x * _rhs[j].x;\n",
        "          val[i][j] += _lhs.y * _rhs[j].y;\n",
        "          val[i][j] += _lhs.z * _rhs[j].z;\n",
        "          val[i][j] += _lhs.w * _rhs[j].w;\n",
        "        }\n",
        "      }\n",
        "    }\n",
        "\n",
        "    for (int i = 0; i < 8; i++) {\n",
        "      for (int j = 0; j < 8; j += 4) {\n",
        "        float4 tmp;\n",
        "        tmp.x = val[i][j+0];\n",
        "        tmp.y = val[i][j+1];\n",
        "        tmp.z = val[i][j+2];\n",
        "        tmp.w = val[i][j+3];\n",
        "        store_vector(out + (8 * threadIdx.x + i) * OC + (8 * threadIdx.y + j), tmp);\n",
        "      }\n",
        "    }\n",
        "  }\n",
        "}\n",
        "\"\"\")"
      ],
      "metadata": {
        "id": "CT_FQsuXjFdf"
      },
      "execution_count": null,
      "outputs": []
    },
    {
      "cell_type": "code",
      "source": [
        "matmul_fwd = prog.get_function(\"linear_fwd\")\n",
        "\n",
        "tile_size = 16\n",
        "grid_size0 = int(np.ceil(bs * n_seq / (8 * tile_size)))\n",
        "grid_size1 = int(np.ceil(NH3 / (8 * tile_size)))\n",
        "grid_size = (grid_size0, grid_size1, 1)\n",
        "block_size = (tile_size, tile_size, 1)\n",
        "matmul_fwd(drv.Out(out), drv.In(input), drv.In(qkv_w), drv.In(qkv_b), np.int32(bs), np.int32(n_seq), np.int32(NH3), np.int32(n_hidden), block=block_size, grid=grid_size)"
      ],
      "metadata": {
        "id": "bk7Ca32q7MS2"
      },
      "execution_count": null,
      "outputs": []
    },
    {
      "cell_type": "markdown",
      "source": [
        "验证计算结果："
      ],
      "metadata": {
        "id": "UfLIRC9hhJPe"
      }
    },
    {
      "cell_type": "code",
      "source": [
        "def ref_linear_fwd(input, weight, bias):\n",
        "  return input @ weight.T + bias\n",
        "\n",
        "np.allclose(out, ref_linear_fwd(input, qkv_w, qkv_b), atol=1e-4, rtol=1e-5)"
      ],
      "metadata": {
        "id": "A3Ee8Fks9g_E",
        "colab": {
          "base_uri": "https://localhost:8080/"
        },
        "outputId": "834cb92c-fb5c-4dd1-eac7-0e755b2304bd"
      },
      "execution_count": null,
      "outputs": [
        {
          "output_type": "stream",
          "name": "stderr",
          "text": [
            "/usr/local/lib/python3.10/dist-packages/google/colab/_variable_inspector.py:27: UserWarning: module in out-of-thread context could not be cleaned up\n",
            "  globals().clear()\n"
          ]
        },
        {
          "output_type": "execute_result",
          "data": {
            "text/plain": [
              "True"
            ]
          },
          "metadata": {},
          "execution_count": 47
        }
      ]
    }
  ]
}